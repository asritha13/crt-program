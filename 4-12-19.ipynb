{
 "cells": [
  {
   "cell_type": "markdown",
   "metadata": {},
   "source": [
    "### Functional programming\n",
    "1. simple\n",
    "2. easy to understand\n",
    "3. better reuseability\n",
    "4. length of the program will be divided into sub program"
   ]
  },
  {
   "cell_type": "code",
   "execution_count": null,
   "metadata": {},
   "outputs": [],
   "source": [
    "def nameofFunction(<parameters>):\n",
    "    statements\n",
    "    return"
   ]
  },
  {
   "cell_type": "code",
   "execution_count": 14,
   "metadata": {},
   "outputs": [
    {
     "data": {
      "text/plain": [
       "6"
      ]
     },
     "execution_count": 14,
     "metadata": {},
     "output_type": "execute_result"
    }
   ],
   "source": [
    "# read a function\n",
    "# print the even digit sum from the number\n",
    "\n",
    "#input : 1234\n",
    "# output : 6(2+4)\n",
    "\n",
    "def evenDigitSum(n):\n",
    "    s=0\n",
    "    while n !=0:\n",
    "        r=n%10\n",
    "        if  r%2==0:\n",
    "            s=s+r\n",
    "        n=n//10\n",
    "    return s\n",
    "evenDigitSum(1234)"
   ]
  },
  {
   "cell_type": "code",
   "execution_count": 15,
   "metadata": {},
   "outputs": [
    {
     "name": "stdout",
     "output_type": "stream",
     "text": [
      "16\n",
      "None\n"
     ]
    }
   ],
   "source": [
    "# define return function\n",
    "def square(x):\n",
    "    print(x*x)\n",
    "print(square(4))"
   ]
  },
  {
   "cell_type": "code",
   "execution_count": 16,
   "metadata": {},
   "outputs": [
    {
     "data": {
      "text/plain": [
       "9"
      ]
     },
     "execution_count": 16,
     "metadata": {},
     "output_type": "execute_result"
    }
   ],
   "source": [
    "def square(x):\n",
    "    return x*x\n",
    "square(3)"
   ]
  },
  {
   "cell_type": "code",
   "execution_count": 17,
   "metadata": {},
   "outputs": [
    {
     "data": {
      "text/plain": [
       "8"
      ]
     },
     "execution_count": 17,
     "metadata": {},
     "output_type": "execute_result"
    }
   ],
   "source": [
    "def cube(x):\n",
    "    return x*x*x\n",
    "cube(2)"
   ]
  },
  {
   "cell_type": "code",
   "execution_count": 19,
   "metadata": {},
   "outputs": [
    {
     "name": "stdout",
     "output_type": "stream",
     "text": [
      "value of x= 4\n",
      "value of y= 2\n",
      "8\n"
     ]
    }
   ],
   "source": [
    "def multiply(x,y):\n",
    "    print(\"value of x=\",x)\n",
    "    print(\"value of y=\",y)\n",
    "    return(x*y)\n",
    "print(multiply(y=2,x=4))"
   ]
  },
  {
   "cell_type": "code",
   "execution_count": 30,
   "metadata": {},
   "outputs": [
    {
     "data": {
      "text/plain": [
       "(3, 2)"
      ]
     },
     "execution_count": 30,
     "metadata": {},
     "output_type": "execute_result"
    }
   ],
   "source": [
    "# swap values\n",
    "def swap(x,y):\n",
    "        temp = x\n",
    "        x = y\n",
    "        y = temp\n",
    "        return x,y\n",
    "swap(2,3)"
   ]
  },
  {
   "cell_type": "code",
   "execution_count": 46,
   "metadata": {},
   "outputs": [
    {
     "data": {
      "text/plain": [
       "9"
      ]
     },
     "execution_count": 46,
     "metadata": {},
     "output_type": "execute_result"
    }
   ],
   "source": [
    "# input : 19535\n",
    "# output : 9 (large digit of given number)\n",
    "def largeDigit(n):\n",
    "    large = 0\n",
    "    while n!=0:\n",
    "        r=n%10\n",
    "        if large < r:\n",
    "            large = r\n",
    "        n=n//10\n",
    "    return large\n",
    "largeDigit(19535)"
   ]
  },
  {
   "cell_type": "markdown",
   "metadata": {},
   "source": [
    "## For loop\n",
    "### syntax 1:\n",
    "for i in range (start,stop,step):\n",
    "> statements\n",
    "### syntax 2:\n",
    "for i in Iterableobject:\n",
    "> statements"
   ]
  },
  {
   "cell_type": "code",
   "execution_count": 50,
   "metadata": {},
   "outputs": [
    {
     "name": "stdout",
     "output_type": "stream",
     "text": [
      "1 2 3 4 5 6 7 8 9 10 "
     ]
    }
   ],
   "source": [
    "# Function to print the prime numbers between two limits\n",
    "def printseries(lb,ub):\n",
    "    for x in range(lb,ub+1):\n",
    "         print(x,end = ' ')\n",
    "    return\n",
    "printseries(1,10)"
   ]
  },
  {
   "cell_type": "markdown",
   "metadata": {},
   "source": [
    "# collection types\n",
    "## 1. list\n",
    "## 2. tuple\n",
    "## 3. set\n",
    "## 4. dictionary"
   ]
  },
  {
   "cell_type": "markdown",
   "metadata": {},
   "source": [
    "# List\n",
    "- one of the data structure in python\n",
    "- data structure means to store,sort and search options\n",
    "- its one common data structure in python , the items of list seperated by comma and enclosed in square brackets\n",
    "  # EXAMPLES: \n",
    "- list1=[1,2,3,4,5]\n",
    "- list2=[\"Gitam\",1,2]\n",
    " "
   ]
  },
  {
   "cell_type": "code",
   "execution_count": 52,
   "metadata": {},
   "outputs": [
    {
     "name": "stdout",
     "output_type": "stream",
     "text": [
      "[1, 8, 16, 9, 2]\n",
      "1\n",
      "8\n",
      "1\n",
      "[8, 16, 9, 2]\n",
      "[8, 16, 9]\n",
      "[8, 16, 9]\n"
     ]
    }
   ],
   "source": [
    "li=[1,8,16,9,2]\n",
    "print(li)#will print all the list items\n",
    "print(li[0])\n",
    "print(li[1])\n",
    "print(li[-5])\n",
    "print(li[1:])\n",
    "print(li[1:4])\n",
    "print(li[-4:-1])\n",
    "\n"
   ]
  },
  {
   "cell_type": "code",
   "execution_count": 54,
   "metadata": {},
   "outputs": [
    {
     "name": "stdout",
     "output_type": "stream",
     "text": [
      "['gitam', 1234, 'hyd']\n",
      "['gitam', 456, 'hyd']\n"
     ]
    }
   ],
   "source": [
    "# update the list\n",
    "li=['gitam',1234,'hyd']\n",
    "print(li)\n",
    "li[1] = 456\n",
    "print(li)"
   ]
  },
  {
   "cell_type": "code",
   "execution_count": 56,
   "metadata": {},
   "outputs": [
    {
     "name": "stdout",
     "output_type": "stream",
     "text": [
      "['gitam', 1234, 2018, 2019, 'hyd']\n",
      "['gitam', 1234, 2018, 'hyd']\n"
     ]
    }
   ],
   "source": [
    "#  delete a value from list\n",
    "li=['gitam',1234,2018,2019,'hyd']\n",
    "print(li)\n",
    "del li[3]\n",
    "print(li)"
   ]
  },
  {
   "cell_type": "code",
   "execution_count": 57,
   "metadata": {},
   "outputs": [
    {
     "name": "stdout",
     "output_type": "stream",
     "text": [
      "4\n"
     ]
    }
   ],
   "source": [
    "# basic list operations\n",
    "li=[1,2,3,4]\n",
    "# len of the string\n",
    "print(len(li))"
   ]
  },
  {
   "cell_type": "code",
   "execution_count": null,
   "metadata": {},
   "outputs": [],
   "source": []
  }
 ],
 "metadata": {
  "kernelspec": {
   "display_name": "Python 3",
   "language": "python",
   "name": "python3"
  },
  "language_info": {
   "codemirror_mode": {
    "name": "ipython",
    "version": 3
   },
   "file_extension": ".py",
   "mimetype": "text/x-python",
   "name": "python",
   "nbconvert_exporter": "python",
   "pygments_lexer": "ipython3",
   "version": "3.7.3"
  }
 },
 "nbformat": 4,
 "nbformat_minor": 2
}
